{
 "cells": [
  {
   "cell_type": "code",
   "execution_count": 187,
   "metadata": {
    "collapsed": false
   },
   "outputs": [],
   "source": [
    "# -*- coding: utf-8 -*-\n",
    "import os\n",
    "from hashlib import md5"
   ]
  },
  {
   "cell_type": "code",
   "execution_count": 188,
   "metadata": {
    "collapsed": true
   },
   "outputs": [],
   "source": [
    "PARZU_EXE = './ParZu/parzu'\n",
    "CACHE = 'cache'\n",
    "EXIT_STATUS_SUCCESS = 0"
   ]
  },
  {
   "cell_type": "code",
   "execution_count": 189,
   "metadata": {
    "collapsed": false
   },
   "outputs": [],
   "source": [
    "'''extract list of stems from string'''\n",
    "def stem(string):    \n",
    "    cache_file = CACHE + '/' + md5(string.strip()).hexdigest() + '.txt'\n",
    "    # see whether stemming for string is cached\n",
    "    try:\n",
    "        stems_file = open(cache_file)\n",
    "    except IOError:\n",
    "        # write input string into temp file\n",
    "        temp_file = CACHE + '/' + 'temp.txt'\n",
    "        with open(temp_file, 'w') as f:\n",
    "            f.write(string)\n",
    "        # create stemming file from temp with ParZu save result in cache\n",
    "        command = '{0} < {1} > {2}'.format(PARZU_EXE, temp_file, cache_file)\n",
    "        if os.system(command) != EXIT_STATUS_SUCCESS:\n",
    "            raise Exception('$' + command + ' failed')\n",
    "        stems_file = open(cache_file)\n",
    "    # extract stems from stemming_file\n",
    "    stems = []\n",
    "    for line in stems_file:\n",
    "        # add stem unless line is empty or about punctuation\n",
    "        if line != '\\n' and line.split('\\t')[3][0] != '$' :\n",
    "            stems += [line.split('\\t')[2].lower()]\n",
    "    # return list of stems\n",
    "    return stems"
   ]
  },
  {
   "cell_type": "code",
   "execution_count": 190,
   "metadata": {
    "collapsed": false
   },
   "outputs": [
    {
     "data": {
      "text/plain": [
       "['meine', 'auto', 'parken', 'vor', 'die', 'garage']"
      ]
     },
     "execution_count": 190,
     "metadata": {},
     "output_type": "execute_result"
    }
   ],
   "source": [
    "stem(\"Mein Auto parkt vor der Garage.\\n\")"
   ]
  },
  {
   "cell_type": "code",
   "execution_count": 191,
   "metadata": {
    "collapsed": false
   },
   "outputs": [],
   "source": [
    "cluster_1_tags = ['versenden','email','verschicken','outlook','thunderbird']\n",
    "cluster_2_tags = ['installation','admin','admin-rechte','setup','installieren']\n",
    "cluster_3_tags = ['maus','mauszeiger','zeiger','cursor','trackpad','mousepad']\n",
    "cluster_4_tags = ['installation','excel','powerpoint','formattierung','computer','abstürzen']\n",
    "\n",
    "# we might want to remove endings, if we check for compound words, that captures things like Versendeladebalken\n",
    "cluster_1_tags[0] = 'versend'\n",
    "cluster_1_tags[2] = 'verschick'\n",
    "cluster_2_tags[4] = 'installier'\n",
    "cluster_4_tags[5] = 'abstürz'\n",
    "# adding the verb click to cluster 3 seems to make sense\n",
    "cluster_3_tags += ['klick']\n",
    "\n",
    "CLUSTERS = [cluster_1_tags, cluster_2_tags, cluster_3_tags, cluster_4_tags]"
   ]
  },
  {
   "cell_type": "code",
   "execution_count": 185,
   "metadata": {
    "collapsed": true
   },
   "outputs": [],
   "source": [
    "def find_fitting_cluster(string, clusters=CLUSTERS):\n",
    "    stems = stem(string)\n",
    "    ratings = [0,0,0,0]\n",
    "    for c in range(len(clusters)):\n",
    "        # a check that ignores compound nouns could simply use the follwing line instead of the 4 lines after it\n",
    "        # ratings[c] = sum([1 if stems[i] in clusters[c] else 0 for i in range(len(stems))])\n",
    "        for tag in clusters[c]:\n",
    "            for stm in stems:\n",
    "                if tag in stm: \n",
    "                    ratings[c] += 1\n",
    "    if sum(ratings) == 0: \n",
    "        cluster = 5\n",
    "    else: \n",
    "        cluster = ratings.index(max(ratings))+1\n",
    "    return cluster"
   ]
  },
  {
   "cell_type": "code",
   "execution_count": 192,
   "metadata": {
    "collapsed": false
   },
   "outputs": [
    {
     "name": "stdout",
     "output_type": "stream",
     "text": [
      "False\n",
      "True\n",
      "True\n",
      "False\n"
     ]
    }
   ],
   "source": [
    "# examples about compound nouns\n",
    "print 'email' in ['emailadresse']\n",
    "print 'email' in 'emailadresse'\n",
    "print 'adresse' in 'emailadresse'\n",
    "print 'emailadresse' in 'email'"
   ]
  },
  {
   "cell_type": "code",
   "execution_count": 193,
   "metadata": {
    "collapsed": true
   },
   "outputs": [],
   "source": [
    "def find_in_cluster_files(line):\n",
    "    for i in range(1,6):\n",
    "        with open('Testdaten/cluster_' + str(i) + '.txt') as f:\n",
    "            if line in f.read().splitlines():\n",
    "                return i"
   ]
  },
  {
   "cell_type": "code",
   "execution_count": 194,
   "metadata": {
    "collapsed": false
   },
   "outputs": [],
   "source": [
    "inputs = open(\"Testdaten/unclustered_input.txt\").read().splitlines()"
   ]
  },
  {
   "cell_type": "code",
   "execution_count": 209,
   "metadata": {
    "collapsed": false
   },
   "outputs": [
    {
     "name": "stdout",
     "output_type": "stream",
     "text": [
      "failure in: 'Mein Computer macht sich selbständig.'\n",
      "is: 3 | fitted: 4\n"
     ]
    }
   ],
   "source": [
    "for line in inputs:\n",
    "    fit = find_fitting_cluster(line)\n",
    "    truth = find_in_cluster_files(line)\n",
    "    if fit != truth:\n",
    "        print('failure in: \\'%s\\'' % line)\n",
    "        print('is: %i | fitted: %i' % (truth, fit))"
   ]
  },
  {
   "cell_type": "code",
   "execution_count": 201,
   "metadata": {
    "collapsed": false
   },
   "outputs": [
    {
     "name": "stdout",
     "output_type": "stream",
     "text": [
      "\n",
      "cluster 1:\n",
      "1 1 1 1 1 1 1 1 1 1 1 1 1 1 1 \n",
      "cluster 2:\n",
      "2 2 2 2 2 2 2 2 2 \n",
      "cluster 3:\n",
      "4 3 3 3 3 3 3 3 3 3 \n",
      "cluster 4:\n",
      "4 4 4 \n",
      "cluster 5:\n",
      "5 5 5\n"
     ]
    }
   ],
   "source": [
    "for i in range(1,6):\n",
    "    with open('Testdaten/cluster_' + str(i) + '.txt') as f:\n",
    "        print('\\ncluster ' + str(i) + ':')\n",
    "        for line in f:\n",
    "            print(find_fitting_cluster(line)),"
   ]
  },
  {
   "cell_type": "code",
   "execution_count": 197,
   "metadata": {
    "collapsed": false
   },
   "outputs": [
    {
     "name": "stdout",
     "output_type": "stream",
     "text": [
      "\n",
      "Cluster 1:\n",
      "precision: \t100%\n",
      "recall: \t100%\n",
      "\n",
      "Cluster 2:\n",
      "precision: \t100%\n",
      "recall: \t100%\n",
      "\n",
      "Cluster 3:\n",
      "precision: \t100%\n",
      "recall: \t90%\n",
      "\n",
      "Cluster 4:\n",
      "precision: \t75%\n",
      "recall: \t100%\n",
      "\n",
      "Cluster 5:\n",
      "precision: \t100%\n",
      "recall: \t100%\n"
     ]
    }
   ],
   "source": [
    "for i in range(1,6):\n",
    "    print('\\nCluster %i:' % i)\n",
    "    true_positives = 0\n",
    "    false_positives = 0\n",
    "    false_negatives = 0\n",
    "    for line in inputs:\n",
    "        fit = find_fitting_cluster(line)\n",
    "        truth = find_in_cluster_files(line)\n",
    "        if fit == i:\n",
    "            if truth == i:\n",
    "                true_positives += 1\n",
    "            else:\n",
    "                false_positives += 1\n",
    "        else: \n",
    "            if truth == i:\n",
    "                false_negatives += 1\n",
    "    precision = float(true_positives)/(true_positives + false_positives)*100\n",
    "    recall = float(true_positives)/(true_positives + false_negatives)*100\n",
    "    print('precision: \\t%.0f%%' % precision)\n",
    "    print('recall: \\t%.0f%%' % recall)\n"
   ]
  },
  {
   "cell_type": "code",
   "execution_count": null,
   "metadata": {
    "collapsed": true
   },
   "outputs": [],
   "source": []
  }
 ],
 "metadata": {
  "kernelspec": {
   "display_name": "Python 2",
   "language": "python",
   "name": "python2"
  },
  "language_info": {
   "codemirror_mode": {
    "name": "ipython",
    "version": 2
   },
   "file_extension": ".py",
   "mimetype": "text/x-python",
   "name": "python",
   "nbconvert_exporter": "python",
   "pygments_lexer": "ipython2",
   "version": "2.7.9"
  }
 },
 "nbformat": 4,
 "nbformat_minor": 0
}
